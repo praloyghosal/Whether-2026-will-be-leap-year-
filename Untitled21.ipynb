{
 "cells": [
  {
   "cell_type": "code",
   "execution_count": null,
   "id": "7ffbb332",
   "metadata": {},
   "outputs": [],
   "source": [
    "def is_leap_year(year):\n",
    "    \"\"\"\n",
    "    Function to check if a year is a leap year.\n",
    "    \n",
    "    Args:\n",
    "    year (int): The year to check\n",
    "    \n",
    "    Returns:\n",
    "    bool: True if the year is a leap year, False otherwise\n",
    "    \"\"\"\n",
    "    if year % 4 == 0:  # Leap years are divisible by 4\n",
    "        if year % 100 == 0:  # Except if they are also divisible by 100\n",
    "            if year % 400 == 0:  # Unless they are divisible by 400\n",
    "                return True\n",
    "            else:\n",
    "                return False\n",
    "        else:\n",
    "            return True\n",
    "    else:\n",
    "        return False\n",
    "\n",
    "# Test the function for 2026\n",
    "year = 2026\n",
    "if is_leap_year(year):\n",
    "    print(f\"{year} is a leap year.\")\n",
    "else:\n",
    "    print(f\"{year} is not a leap year.\")\n"
   ]
  }
 ],
 "metadata": {
  "kernelspec": {
   "display_name": "Python 3 (ipykernel)",
   "language": "python",
   "name": "python3"
  },
  "language_info": {
   "codemirror_mode": {
    "name": "ipython",
    "version": 3
   },
   "file_extension": ".py",
   "mimetype": "text/x-python",
   "name": "python",
   "nbconvert_exporter": "python",
   "pygments_lexer": "ipython3",
   "version": "3.9.7"
  }
 },
 "nbformat": 4,
 "nbformat_minor": 5
}
